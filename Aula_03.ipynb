{
 "cells": [
  {
   "cell_type": "code",
   "execution_count": 1,
   "metadata": {
    "id": "nFQLKQ6hfXch"
   },
   "outputs": [],
   "source": [
    "#Instalando o SDK do Google\n",
    "!pip install -q -U google-generativeai"
   ]
  },
  {
   "cell_type": "code",
   "execution_count": null,
   "metadata": {
    "id": "IthzwfnAfcsi"
   },
   "outputs": [],
   "source": [
    "#Configurações iniciais\n",
    "import google.generativeai as genai\n",
    "\n",
    "GOOGLE_API_KEY=\"\"\n",
    "genai.configure(api_key=GOOGLE_API_KEY)"
   ]
  },
  {
   "cell_type": "code",
   "execution_count": 3,
   "metadata": {
    "colab": {
     "base_uri": "https://localhost:8080/",
     "height": 416
    },
    "id": "iD3ihugymWBt",
    "outputId": "cd6b3eb9-201a-4345-c1bf-fcf4c294f06e"
   },
   "outputs": [
    {
     "name": "stdout",
     "output_type": "stream",
     "text": [
      "models/gemini-1.0-pro-latest\n",
      "models/gemini-1.0-pro\n",
      "models/gemini-pro\n",
      "models/gemini-1.0-pro-001\n",
      "models/gemini-1.0-pro-vision-latest\n",
      "models/gemini-pro-vision\n",
      "models/gemini-1.5-pro-latest\n",
      "models/gemini-1.5-pro-001\n",
      "models/gemini-1.5-pro-002\n",
      "models/gemini-1.5-pro\n",
      "models/gemini-1.5-pro-exp-0801\n",
      "models/gemini-1.5-pro-exp-0827\n",
      "models/gemini-1.5-flash-latest\n",
      "models/gemini-1.5-flash-001\n",
      "models/gemini-1.5-flash-001-tuning\n",
      "models/gemini-1.5-flash\n",
      "models/gemini-1.5-flash-exp-0827\n",
      "models/gemini-1.5-flash-002\n",
      "models/gemini-1.5-flash-8b\n",
      "models/gemini-1.5-flash-8b-001\n",
      "models/gemini-1.5-flash-8b-latest\n",
      "models/gemini-1.5-flash-8b-exp-0827\n",
      "models/gemini-1.5-flash-8b-exp-0924\n"
     ]
    }
   ],
   "source": [
    "#Listando os modelos disponíveis\n",
    "for m in genai.list_models():\n",
    "  if 'generateContent' in m.supported_generation_methods:\n",
    "    print(m.name)"
   ]
  },
  {
   "cell_type": "code",
   "execution_count": 4,
   "metadata": {
    "id": "O1ochaeyDn_o"
   },
   "outputs": [],
   "source": [
    "generation_config = {\n",
    "  \"candidate_count\": 1,\n",
    "  \"temperature\": 0.5,\n",
    "}"
   ]
  },
  {
   "cell_type": "code",
   "execution_count": 5,
   "metadata": {
    "id": "jwBv7DofDofw"
   },
   "outputs": [],
   "source": [
    "safety_settings={\n",
    "    'HATE': 'BLOCK_NONE',\n",
    "    'HARASSMENT': 'BLOCK_NONE',\n",
    "    'SEXUAL' : 'BLOCK_NONE',\n",
    "    'DANGEROUS' : 'BLOCK_NONE'\n",
    "    }"
   ]
  },
  {
   "cell_type": "code",
   "execution_count": 6,
   "metadata": {
    "id": "NIiSs1R5mVJE"
   },
   "outputs": [],
   "source": [
    "model = genai.GenerativeModel(model_name='gemini-1.0-pro',\n",
    "                                  generation_config=generation_config,\n",
    "                                  safety_settings=safety_settings,)"
   ]
  },
  {
   "cell_type": "code",
   "execution_count": 7,
   "metadata": {
    "colab": {
     "base_uri": "https://localhost:8080/",
     "height": 35
    },
    "id": "vrRjhT2rlrU_",
    "outputId": "85c0e717-5e18-4ead-a1f4-c472b19d977f"
   },
   "outputs": [
    {
     "data": {
      "application/vnd.google.colaboratory.intrinsic+json": {
       "type": "string"
      },
      "text/plain": [
       "'Google'"
      ]
     },
     "execution_count": 7,
     "metadata": {},
     "output_type": "execute_result"
    }
   ],
   "source": [
    "# response = model.generate_content(\"Que empresa criou o modelo de IA Gemini?\")\n",
    "# response.text"
   ]
  },
  {
   "cell_type": "code",
   "execution_count": null,
   "metadata": {
    "id": "KpaQ6hm5f2_J"
   },
   "outputs": [],
   "source": [
    "chat = model.start_chat(history=[])\n",
    "\n",
    "prompt = input('Esperando prompt: ')\n",
    "\n",
    "while prompt != \"fim\":\n",
    "  response = chat.send_message(prompt)\n",
    "  print(\"Resposta:\", response.text, '\\n\\n')\n",
    "  prompt = input('Esperando prompt: ')"
   ]
  },
  {
   "cell_type": "code",
   "execution_count": null,
   "metadata": {
    "id": "XLAniTTDhHNW"
   },
   "outputs": [],
   "source": [
    "chat"
   ]
  },
  {
   "cell_type": "code",
   "execution_count": null,
   "metadata": {
    "id": "sd8mvW9KghTf"
   },
   "outputs": [],
   "source": [
    "chat.history"
   ]
  },
  {
   "cell_type": "code",
   "execution_count": null,
   "metadata": {
    "id": "dAcbPBocgzeX"
   },
   "outputs": [],
   "source": [
    "#Melhorando a visualização\n",
    "#Código disponível em https://ai.google.dev/tutorials/python_quickstart#import_packages\n",
    "import textwrap\n",
    "from IPython.display import display\n",
    "from IPython.display import Markdown\n",
    "\n",
    "def to_markdown(text):\n",
    "  text = text.replace('•', '  *')\n",
    "  return Markdown(textwrap.indent(text, '> ', predicate=lambda _: True))\n",
    "\n",
    "#Imprimindo o histórico\n",
    "for message in chat.history:\n",
    "  display(to_markdown(f'**{message.role}**: {message.parts[0].text}'))\n",
    "  print('-------------------------------------------')"
   ]
  }
 ],
 "metadata": {
  "colab": {
   "provenance": []
  },
  "kernelspec": {
   "display_name": "Python 3",
   "name": "python3"
  },
  "language_info": {
   "name": "python"
  }
 },
 "nbformat": 4,
 "nbformat_minor": 0
}
